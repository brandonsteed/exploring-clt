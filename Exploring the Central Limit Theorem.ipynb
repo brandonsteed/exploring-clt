{
 "cells": [
  {
   "cell_type": "code",
   "execution_count": 1,
   "metadata": {},
   "outputs": [],
   "source": [
    "import numpy as np\n",
    "import pandas as pd\n",
    "import scipy\n",
    "import matplotlib.pyplot as plt\n",
    "%matplotlib inline"
   ]
  },
  {
   "cell_type": "code",
   "execution_count": 2,
   "metadata": {},
   "outputs": [],
   "source": [
    "pop1 = np.random.binomial(10, .2, 10000)\n",
    "pop2 = np.random.binomial(10, .5, 10000)"
   ]
  },
  {
   "cell_type": "code",
   "execution_count": 3,
   "metadata": {},
   "outputs": [
    {
     "name": "stdout",
     "output_type": "stream",
     "text": [
      "2.04\n",
      "1.2642784503423288\n"
     ]
    }
   ],
   "source": [
    "samp1_100 = pop1[:100]\n",
    "print(np.mean(samp1_100))\n",
    "print(np.std(samp1_100))"
   ]
  },
  {
   "cell_type": "code",
   "execution_count": 4,
   "metadata": {},
   "outputs": [
    {
     "name": "stdout",
     "output_type": "stream",
     "text": [
      "4.76\n",
      "1.5692036196746424\n"
     ]
    }
   ],
   "source": [
    "samp2_100 = pop2[:100]\n",
    "print(np.mean(samp2_100))\n",
    "print(np.std(samp2_100))"
   ]
  },
  {
   "cell_type": "code",
   "execution_count": 5,
   "metadata": {},
   "outputs": [
    {
     "data": {
      "text/plain": [
       "<matplotlib.lines.Line2D at 0xed7b130>"
      ]
     },
     "execution_count": 5,
     "metadata": {},
     "output_type": "execute_result"
    },
    {
     "data": {
      "image/png": "[encoded data removed]",
      "text/plain": [
       "<Figure size 1008x360 with 2 Axes>"
      ]
     },
     "metadata": {},
     "output_type": "display_data"
    }
   ],
   "source": [
    "plt.figure(figsize=(14, 5))\n",
    "\n",
    "plt.subplot(1, 2, 1)\n",
    "plt.hist(samp1_100)\n",
    "plt.axvline(samp1_100.mean(), color='r', linestyle='solid', linewidth=2)\n",
    "plt.axvline(samp1_100.mean() - samp1_100.std(), color='r', linestyle='dashed', linewidth=2)\n",
    "plt.axvline(samp1_100.mean() + samp1_100.std(), color='r', linestyle='dashed', linewidth=2)\n",
    "\n",
    "plt.subplot(1, 2, 2)\n",
    "plt.hist(samp2_100, color='g')\n",
    "plt.axvline(samp2_100.mean(), color='r', linestyle='solid', linewidth=2)\n",
    "plt.axvline(samp2_100.mean() - samp2_100.std(), color='r', linestyle='dashed', linewidth=2)\n",
    "plt.axvline(samp2_100.mean() + samp2_100.std(), color='r', linestyle='dashed', linewidth=2)"
   ]
  },
  {
   "cell_type": "code",
   "execution_count": 6,
   "metadata": {},
   "outputs": [
    {
     "name": "stdout",
     "output_type": "stream",
     "text": [
      "2.004\n",
      "1.2433760493109074\n"
     ]
    }
   ],
   "source": [
    "samp1_1000 = pop1[:1000]\n",
    "print(np.mean(samp1_1000))\n",
    "print(np.std(samp1_1000))"
   ]
  },
  {
   "cell_type": "code",
   "execution_count": 7,
   "metadata": {},
   "outputs": [
    {
     "name": "stdout",
     "output_type": "stream",
     "text": [
      "4.991\n",
      "1.5952802261671775\n"
     ]
    }
   ],
   "source": [
    "samp2_1000 = pop2[:1000]\n",
    "print(np.mean(samp2_1000))\n",
    "print(np.std(samp2_1000))"
   ]
  },
  {
   "cell_type": "code",
   "execution_count": 8,
   "metadata": {},
   "outputs": [
    {
     "data": {
      "text/plain": [
       "<matplotlib.lines.Line2D at 0xedf37b0>"
      ]
     },
     "execution_count": 8,
     "metadata": {},
     "output_type": "execute_result"
    },
    {
     "data": {
      "image/png": "[encoded data removed]",
      "text/plain": [
       "<Figure size 1008x360 with 2 Axes>"
      ]
     },
     "metadata": {},
     "output_type": "display_data"
    }
   ],
   "source": [
    "plt.figure(figsize=(14, 5))\n",
    "\n",
    "plt.subplot(1, 2, 1)\n",
    "plt.hist(samp1_1000)\n",
    "plt.axvline(samp1_1000.mean(), color='r', linestyle='solid', linewidth=2)\n",
    "plt.axvline(samp1_1000.mean() - samp1_1000.std(), color='r', linestyle='dashed', linewidth=2)\n",
    "plt.axvline(samp1_1000.mean() + samp1_1000.std(), color='r', linestyle='dashed', linewidth=2)\n",
    "\n",
    "plt.subplot(1, 2, 2)\n",
    "plt.hist(samp2_1000, color='g')\n",
    "plt.axvline(samp2_1000.mean(), color='r', linestyle='solid', linewidth=2)\n",
    "plt.axvline(samp2_1000.mean() - samp2_1000.std(), color='r', linestyle='dashed', linewidth=2)\n",
    "plt.axvline(samp2_1000.mean() + samp2_1000.std(), color='r', linestyle='dashed', linewidth=2)"
   ]
  },
  {
   "cell_type": "code",
   "execution_count": 9,
   "metadata": {},
   "outputs": [
    {
     "name": "stdout",
     "output_type": "stream",
     "text": [
      "2.25\n",
      "1.0897247358851685\n"
     ]
    }
   ],
   "source": [
    "samp1_20 = pop1[:20]\n",
    "print(np.mean(samp1_20))\n",
    "print(np.std(samp1_20))"
   ]
  },
  {
   "cell_type": "code",
   "execution_count": 10,
   "metadata": {},
   "outputs": [
    {
     "name": "stdout",
     "output_type": "stream",
     "text": [
      "4.6\n",
      "1.7720045146669352\n"
     ]
    }
   ],
   "source": [
    "samp2_20 = pop2[:20]\n",
    "print(np.mean(samp2_20))\n",
    "print(np.std(samp2_20))"
   ]
  },
  {
   "cell_type": "code",
   "execution_count": 11,
   "metadata": {},
   "outputs": [
    {
     "data": {
      "text/plain": [
       "<matplotlib.lines.Line2D at 0xee8a4d0>"
      ]
     },
     "execution_count": 11,
     "metadata": {},
     "output_type": "execute_result"
    },
    {
     "data": {
      "image/png": "[encoded data removed]",
      "text/plain": [
       "<Figure size 1008x360 with 2 Axes>"
      ]
     },
     "metadata": {},
     "output_type": "display_data"
    }
   ],
   "source": [
    "plt.figure(figsize=(14, 5))\n",
    "\n",
    "plt.subplot(1, 2, 1)\n",
    "plt.hist(samp1_20)\n",
    "plt.axvline(samp1_20.mean(), color='r', linestyle='solid', linewidth=2)\n",
    "plt.axvline(samp1_20.mean() - samp1_20.std(), color='r', linestyle='dashed', linewidth=2)\n",
    "plt.axvline(samp1_20.mean() + samp1_20.std(), color='r', linestyle='dashed', linewidth=2)\n",
    "\n",
    "plt.subplot(1, 2, 2)\n",
    "plt.hist(samp2_20, color='g')\n",
    "plt.axvline(samp2_20.mean(), color='r', linestyle='solid', linewidth=2)\n",
    "plt.axvline(samp2_20.mean() - samp2_20.std(), color='r', linestyle='dashed', linewidth=2)\n",
    "plt.axvline(samp2_20.mean() + samp2_20.std(), color='r', linestyle='dashed', linewidth=2)"
   ]
  },
  {
   "cell_type": "markdown",
   "metadata": {},
   "source": [
    "Both mean and standard deviation changed with sample size."
   ]
  },
  {
   "cell_type": "code",
   "execution_count": 12,
   "metadata": {},
   "outputs": [
    {
     "name": "stdout",
     "output_type": "stream",
     "text": [
      "Ttest_indResult(statistic=-7.974770165284833, pvalue=1.2358408455862122e-13)\n"
     ]
    }
   ],
   "source": [
    "pop1 = np.random.binomial(10, .3, 10000)\n",
    "\n",
    "samp1_100 = pop1[:100]\n",
    "from scipy.stats import ttest_ind\n",
    "print(ttest_ind(samp1_100, samp2_100, equal_var=False))"
   ]
  },
  {
   "cell_type": "code",
   "execution_count": 13,
   "metadata": {},
   "outputs": [
    {
     "name": "stdout",
     "output_type": "stream",
     "text": [
      "Ttest_indResult(statistic=-4.287236628598815, pvalue=2.8439214884717e-05)\n"
     ]
    }
   ],
   "source": [
    "pop1 = np.random.binomial(10, .4, 10000)\n",
    "\n",
    "samp1_100 = pop1[:100]\n",
    "from scipy.stats import ttest_ind\n",
    "print(ttest_ind(samp1_100, samp2_100, equal_var=False))"
   ]
  },
  {
   "cell_type": "markdown",
   "metadata": {},
   "source": [
    "The t-statistic decreases and p-value increases as the random variables converge."
   ]
  },
  {
   "cell_type": "code",
   "execution_count": 14,
   "metadata": {},
   "outputs": [
    {
     "name": "stdout",
     "output_type": "stream",
     "text": [
      "2.3569505646107474\n",
      "2.237399650447998\n",
      "2.1457672077461067\n",
      "2.2732488697365207\n",
      "Ttest_indResult(statistic=0.6587787487452195, pvalue=0.510803401514424)\n"
     ]
    }
   ],
   "source": [
    "pop1 = np.random.chisquare(2, 10000)\n",
    "samp1_100 = pop1[:100]\n",
    "print(np.mean(samp1_100))\n",
    "print(np.std(samp1_100))\n",
    "pop2 = np.random.chisquare(2, 10000)\n",
    "samp2_100 = pop2[:100]\n",
    "print(np.mean(samp2_100))\n",
    "print(np.std(samp2_100))\n",
    "from scipy.stats import ttest_ind\n",
    "print(ttest_ind(samp1_100, samp2_100, equal_var=False))"
   ]
  },
  {
   "cell_type": "code",
   "execution_count": 22,
   "metadata": {},
   "outputs": [
    {
     "data": {
      "text/plain": [
       "<matplotlib.lines.Line2D at 0x1154a290>"
      ]
     },
     "execution_count": 22,
     "metadata": {},
     "output_type": "execute_result"
    },
    {
     "data": {
      "image/png": "[encoded data removed]",
      "text/plain": [
       "<Figure size 1008x576 with 4 Axes>"
      ]
     },
     "metadata": {},
     "output_type": "display_data"
    }
   ],
   "source": [
    "plt.figure(figsize=(14, 8))\n",
    "\n",
    "plt.subplot(2, 2, 1)\n",
    "plt.hist(pop1, color='blue')\n",
    "plt.axvline(pop1.mean(), color='black', linestyle='solid', linewidth=2)\n",
    "plt.axvline(pop1.mean() - pop1.std(), color='black', linestyle='dashed', linewidth=2)\n",
    "plt.axvline(pop1.mean() + pop1.std(), color='black', linestyle='dashed', linewidth=2)\n",
    "\n",
    "plt.subplot(2, 2, 3)\n",
    "plt.hist(samp1_100, color='purple')\n",
    "plt.axvline(samp1_100.mean(), color='r', linestyle='solid', linewidth=2)\n",
    "plt.axvline(samp1_100.mean() - samp1_100.std(), color='r', linestyle='dashed', linewidth=2)\n",
    "plt.axvline(samp1_100.mean() + samp1_100.std(), color='r', linestyle='dashed', linewidth=2)\n",
    "\n",
    "plt.subplot(2, 2, 2)\n",
    "plt.hist(pop2, color='y')\n",
    "plt.axvline(pop2.mean(), color='black', linestyle='solid', linewidth=2)\n",
    "plt.axvline(pop2.mean() - pop2.std(), color='black', linestyle='dashed', linewidth=2)\n",
    "plt.axvline(pop2.mean() + pop2.std(), color='black', linestyle='dashed', linewidth=2)\n",
    "\n",
    "plt.subplot(2, 2, 4)\n",
    "plt.hist(samp2_100, color='g')\n",
    "plt.axvline(samp2_100.mean(), color='r', linestyle='solid', linewidth=2)\n",
    "plt.axvline(samp2_100.mean() - samp2_100.std(), color='r', linestyle='dashed', linewidth=2)\n",
    "plt.axvline(samp2_100.mean() + samp2_100.std(), color='r', linestyle='dashed', linewidth=2)"
   ]
  },
  {
   "cell_type": "markdown",
   "metadata": {},
   "source": [
    "The sample mean values still accurately represent the population."
   ]
  }
 ],
 "metadata": {
  "kernelspec": {
   "display_name": "Python 3",
   "language": "python",
   "name": "python3"
  },
  "language_info": {
   "codemirror_mode": {
    "name": "ipython",
    "version": 3
   },
   "file_extension": ".py",
   "mimetype": "text/x-python",
   "name": "python",
   "nbconvert_exporter": "python",
   "pygments_lexer": "ipython3",
   "version": "3.6.4"
  }
 },
 "nbformat": 4,
 "nbformat_minor": 2
}
